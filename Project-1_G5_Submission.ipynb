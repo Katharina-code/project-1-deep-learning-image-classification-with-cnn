{
 "cells": [
  {
   "cell_type": "markdown",
   "metadata": {},
   "source": [
    "Step 1: Data Preprocessing & Loading \n",
    "        Visualization of Images and Labels and Inserting Grayscale Conversion"
   ]
  },
  {
   "cell_type": "code",
   "execution_count": 72,
   "metadata": {},
   "outputs": [],
   "source": [
    "import numpy as np\n",
    "import pandas as pd\n",
    "import tensorflow as tf\n",
    "import matplotlib.pyplot as plt\n",
    "from tensorflow import keras\n",
    "from tensorflow.keras import datasets, layers, models\n",
    "from tensorflow.keras.datasets import cifar10\n",
    "from tensorflow.keras.utils import to_categorical\n",
    "from tensorflow.keras.preprocessing.image import ImageDataGenerator"
   ]
  },
  {
   "cell_type": "code",
   "execution_count": 73,
   "metadata": {},
   "outputs": [],
   "source": [
    "#Load the data set CIFAR-10 Dataset\n",
    "(x_train, y_train), (x_test, y_test) = datasets.cifar10.load_data()"
   ]
  },
  {
   "cell_type": "code",
   "execution_count": 74,
   "metadata": {},
   "outputs": [],
   "source": [
    "print(x_train.shape, y_train.shape)\n",
    "print(x_test.shape, y_test.shape)"
   ]
  },
  {
   "cell_type": "code",
   "execution_count": 75,
   "metadata": {},
   "outputs": [],
   "source": [
    "# Visualize the images in the CIFAR-10 dataset\n",
    "\n",
    "# Define a list with all the class labels\n",
    "classes = [\"airplane\", \"automobile\", \"bird\", \"cat\", \"deer\", \"dog\", \"frog\", \"horse\", \"ship\", \"truck\"]\n",
    "\n",
    "# Initialize the figure\n",
    "plt.figure(figsize=(6, 6))\n",
    "\n",
    "image_count = 0\n",
    "\n",
    "# Loop through class labels to pick 10 images per class\n",
    "for class_index, class_name in enumerate(classes):\n",
    "    class_images = x_train[y_train.flatten() == class_index][:10]\n",
    "\n",
    " # Loop through the images, arranging them in 10 x 10    \n",
    "    for img in class_images:\n",
    "        plt.subplot(10, 10, image_count + 1)\n",
    "        plt.imshow(img)\n",
    "        plt.axis('off')\n",
    "        if image_count % 10 == 0:\n",
    "            plt.ylabel(class_name, rotation=0, size='large', labelpad=50)\n",
    "        image_count += 1\n",
    "\n",
    "# Show the images\n",
    "plt.show()"
   ]
  },
  {
   "cell_type": "code",
   "execution_count": 76,
   "metadata": {},
   "outputs": [],
   "source": [
    "#Data Augmentation:\n",
    "\n",
    "# Function to convert images to grayscale\n",
    "def rgb_to_grayscale(x):\n",
    "    x = tf.image.rgb_to_grayscale(x)\n",
    "    return x\n",
    "\n",
    "# Create an instance of ImageDataGenerator\n",
    "datagen = ImageDataGenerator(\n",
    "    rescale=1./255,  # Normalize the pixel values\n",
    "    preprocessing_function=rgb_to_grayscale,  # Convert images to grayscale\n",
    "    rotation_range=20,\n",
    "    width_shift_range=0.2,\n",
    "    height_shift_range=0.2,\n",
    "    shear_range=0.2,\n",
    "    zoom_range=0.2,\n",
    "    horizontal_flip=True,\n",
    "    fill_mode='nearest'\n",
    ")\n"
   ]
  },
  {
   "cell_type": "code",
   "execution_count": 77,
   "metadata": {},
   "outputs": [],
   "source": [
    "# Function to collect augmented data\n",
    "def collect_augmented_data(datagen, x_data, y_data, batch_size=32):\n",
    "    iterator = datagen.flow(x_data, y_data, batch_size=batch_size)\n",
    "    augmented_images = []\n",
    "    augmented_labels = []\n",
    "    \n",
    "    total_samples = len(x_data)\n",
    "    batches_to_process = int(np.ceil(total_samples / batch_size))\n",
    "    \n",
    "    for _ in range(batches_to_process):\n",
    "        augmented_batch, labels_batch = next(iterator)\n",
    "        augmented_images.append(augmented_batch)\n",
    "        augmented_labels.append(labels_batch)\n",
    "    \n",
    "    augmented_images = np.concatenate(augmented_images)\n",
    "    augmented_labels = np.concatenate(augmented_labels)\n",
    "    \n",
    "    # Ensure images have a single channel by reshaping if necessary\n",
    "    if augmented_images.shape[-1] == 3:  # If still in 32x32x3 shape\n",
    "        augmented_images = np.mean(augmented_images, axis=-1, keepdims=True)\n",
    "\n",
    "    return augmented_images, augmented_labels\n",
    "\n",
    "# Collect augmented training data\n",
    "augmented_x_train, augmented_y_train = collect_augmented_data(datagen, x_train, y_train)\n",
    "# Collect augmented testing data\n",
    "augmented_x_test, augmented_y_test = collect_augmented_data(datagen, x_test, y_test)\n",
    "\n",
    "print(\"Augmented Training Images Shape:\", augmented_x_train.shape)\n",
    "print(\"Augmented Training Labels Shape:\", augmented_y_train.shape)\n",
    "print(\"Augmented Testing Images Shape:\", augmented_x_test.shape)\n",
    "print(\"Augmented Testing Labels Shape:\", augmented_y_test.shape)"
   ]
  },
  {
   "cell_type": "code",
   "execution_count": 78,
   "metadata": {},
   "outputs": [],
   "source": [
    "# Function to visualize augmented images\n",
    "def visualize_augmented_images(images, labels, classes, title=\"Augmented Images\"):\n",
    "    plt.figure(figsize=(6, 6))\n",
    "    image_count = 0\n",
    "\n",
    "    # Loop through class labels to pick 10 images per class\n",
    "    for class_index, class_name in enumerate(classes):\n",
    "        class_images = images[labels.flatten() == class_index][:10]\n",
    "        \n",
    "        # Loop through the images, arranging them in 10 x 10    \n",
    "        for img in class_images:\n",
    "            if img.shape[-1] == 1:  # Handle grayscale images\n",
    "                img = img.reshape(img.shape[0], img.shape[1])\n",
    "            plt.subplot(10, 10, image_count + 1)\n",
    "            plt.imshow(img, cmap='gray')\n",
    "            plt.axis('off')\n",
    "            if image_count % 10 == 0:\n",
    "                plt.ylabel(class_name, rotation=0, size='large', labelpad=50)\n",
    "            image_count += 1\n",
    "    \n",
    "    plt.suptitle(title)\n",
    "    plt.show()\n",
    "\n",
    "# Visualize augmented training images\n",
    "visualize_augmented_images(augmented_x_train, augmented_y_train, classes, title=\"Augmented Training Images\")\n"
   ]
  },
  {
   "cell_type": "code",
   "execution_count": 9,
   "metadata": {},
   "outputs": [
    {
     "name": "stdout",
     "output_type": "stream",
     "text": [
      "Training data shape: (50000, 32, 32, 3), Training labels shape: (50000, 1)\n",
      "Test data shape: (10000, 32, 32, 3), Test labels shape: (10000, 1)\n"
     ]
    }
   ],
   "source": [
    "# Display the shape of the data\n",
    "print(f\"Training data shape: {x_train.shape}, Training labels shape: {y_train.shape}\")\n",
    "print(f\"Test data shape: {x_test.shape}, Test labels shape: {y_test.shape}\")"
   ]
  }
 ],
 "metadata": {
  "kernelspec": {
   "display_name": "tensorflow_env",
   "language": "python",
   "name": "python3"
  },
  "language_info": {
   "codemirror_mode": {
    "name": "ipython",
    "version": 3
   },
   "file_extension": ".py",
   "mimetype": "text/x-python",
   "name": "python",
   "nbconvert_exporter": "python",
   "pygments_lexer": "ipython3",
   "version": "3.10.13"
  }
 },
 "nbformat": 4,
 "nbformat_minor": 2
}
